{
 "cells": [
  {
   "cell_type": "code",
   "execution_count": 2,
   "metadata": {},
   "outputs": [
    {
     "name": "stderr",
     "output_type": "stream",
     "text": [
      "24/01/30 00:35:59 WARN Utils: Your hostname, AORUS resolves to a loopback address: 127.0.1.1; using 192.168.1.101 instead (on interface eno1)\n",
      "24/01/30 00:35:59 WARN Utils: Set SPARK_LOCAL_IP if you need to bind to another address\n",
      "Setting default log level to \"WARN\".\n",
      "To adjust logging level use sc.setLogLevel(newLevel). For SparkR, use setLogLevel(newLevel).\n",
      "24/01/30 00:35:59 WARN NativeCodeLoader: Unable to load native-hadoop library for your platform... using builtin-java classes where applicable\n"
     ]
    }
   ],
   "source": [
    "from pyspark.sql import SparkSession\n",
    "from pyspark.sql import functions as F\n",
    "from pyspark.sql.window import Window\n",
    "\n",
    "spark = SparkSession \\\n",
    "    .builder \\\n",
    "    .appName(\"Queries\") \\\n",
    "    .getOrCreate()  \n"
   ]
  },
  {
   "cell_type": "code",
   "execution_count": 3,
   "metadata": {},
   "outputs": [
    {
     "name": "stderr",
     "output_type": "stream",
     "text": [
      "24/01/30 00:36:07 WARN SparkStringUtils: Truncated the string representation of a plan since it was too large. This behavior can be adjusted by setting 'spark.sql.debug.maxToStringFields'.\n"
     ]
    },
    {
     "name": "stdout",
     "output_type": "stream",
     "text": [
      "+---------+----------+----------+--------+----+-----------+-----------+--------+------+--------------------+--------------------+--------+--------+------------+---------+--------------------+--------------+--------------------+------+------------+--------+--------+--------+--------+--------------------+------------+-------+---------+\n",
      "|    DR_NO| Date Rptd|  DATE OCC|TIME OCC|AREA|  AREA NAME|Rpt Dist No|Part 1-2|Crm Cd|         Crm Cd Desc|             Mocodes|Vict Age|Vict Sex|Vict Descent|Premis Cd|         Premis Desc|Weapon Used Cd|         Weapon Desc|Status| Status Desc|Crm Cd 1|Crm Cd 2|Crm Cd 3|Crm Cd 4|            LOCATION|Cross Street|    LAT|      LON|\n",
      "+---------+----------+----------+--------+----+-----------+-----------+--------+------+--------------------+--------------------+--------+--------+------------+---------+--------------------+--------------+--------------------+------+------------+--------+--------+--------+--------+--------------------+------------+-------+---------+\n",
      "| 10304468|2020-01-08|2020-01-08|    2230|   3|  Southwest|        377|       2|   624|BATTERY - SIMPLE ...|           0444 0913|      36|       F|           B|      501|SINGLE FAMILY DWE...|           400|STRONG-ARM (HANDS...|    AO| Adult Other|     624|    NULL|    NULL|    NULL|1100 W  39TH     ...|        NULL|34.0141|-118.2978|\n",
      "|190101086|2020-01-02|2020-01-01|     330|   1|    Central|        163|       2|   624|BATTERY - SIMPLE ...|      0416 1822 1414|      25|       M|           H|      102|            SIDEWALK|           500|UNKNOWN WEAPON/OT...|    IC| Invest Cont|     624|    NULL|    NULL|    NULL|700 S  HILL      ...|        NULL|34.0459|-118.2545|\n",
      "|200110444|2020-04-14|2020-02-13|    1200|   1|    Central|        155|       2|   845|SEX OFFENDER REGI...|                1501|       0|       X|           X|      726|     POLICE FACILITY|          NULL|                NULL|    AA|Adult Arrest|     845|    NULL|    NULL|    NULL|200 E  6TH       ...|        NULL|34.0448|-118.2474|\n",
      "|191501505|2020-01-01|2020-01-01|    1730|  15|N Hollywood|       1543|       2|   745|VANDALISM - MISDE...|           0329 1402|      76|       F|           W|      502|MULTI-UNIT DWELLI...|          NULL|                NULL|    IC| Invest Cont|     745|     998|    NULL|    NULL|5400    CORTEEN  ...|        NULL|34.1685|-118.4019|\n",
      "|191921269|2020-01-01|2020-01-01|     415|  19|    Mission|       1998|       2|   740|VANDALISM - FELON...|                0329|      31|       X|           X|      409| BEAUTY SUPPLY STORE|          NULL|                NULL|    IC| Invest Cont|     740|    NULL|    NULL|    NULL|14400    TITUS   ...|        NULL|34.2198|-118.4468|\n",
      "|200100501|2020-01-02|2020-01-01|      30|   1|    Central|        163|       1|   121|      RAPE, FORCIBLE| 0413 1822 1262 1415|      25|       F|           H|      735|NIGHT CLUB (OPEN ...|           500|UNKNOWN WEAPON/OT...|    IC| Invest Cont|     121|     998|    NULL|    NULL|     700 S  BROADWAY|        NULL|34.0452|-118.2534|\n",
      "|200100502|2020-01-02|2020-01-02|    1315|   1|    Central|        161|       1|   442|SHOPLIFTING - PET...| 1402 2004 0344 0387|      23|       M|           H|      404|    DEPARTMENT STORE|          NULL|                NULL|    IC| Invest Cont|     442|     998|    NULL|    NULL|700 S  FIGUEROA  ...|        NULL|34.0483|-118.2631|\n",
      "|200100504|2020-01-04|2020-01-04|      40|   1|    Central|        155|       2|   946|OTHER MISCELLANEO...|           1402 0392|       0|       X|           X|      726|     POLICE FACILITY|          NULL|                NULL|    IC| Invest Cont|     946|     998|    NULL|    NULL|200 E  6TH       ...|        NULL|34.0448|-118.2474|\n",
      "|200100507|2020-01-04|2020-01-04|     200|   1|    Central|        101|       1|   341|THEFT-GRAND ($950...|      1822 0344 1402|      23|       M|           B|      502|MULTI-UNIT DWELLI...|          NULL|                NULL|    IC| Invest Cont|     341|     998|    NULL|    NULL|700    BERNARD   ...|        NULL|34.0677|-118.2398|\n",
      "|201710201|2020-06-19|2020-05-26|    1925|  17| Devonshire|       1708|       1|   341|THEFT-GRAND ($950...| 1300 0202 0378 0325|       0|       X|           X|      203|      OTHER BUSINESS|          NULL|                NULL|    AO| Adult Other|     341|    NULL|    NULL|    NULL|11900    BALBOA  ...|        NULL|34.2864|-118.5021|\n",
      "|200100509|2020-01-04|2020-01-04|    2200|   1|    Central|        192|       1|   330|BURGLARY FROM VEH...| 1822 1414 0344 1307|      29|       M|           A|      101|              STREET|           306|  ROCK/THROWN OBJECT|    IC| Invest Cont|     330|    NULL|    NULL|    NULL|                15TH|       OLIVE|34.0359|-118.2648|\n",
      "|200100510|2020-01-05|2020-01-05|     955|   1|    Central|        111|       2|   930|CRIMINAL THREATS ...|           0421 0906|      35|       M|           O|      108|         PARKING LOT|           511|       VERBAL THREAT|    IC| Invest Cont|     930|    NULL|    NULL|    NULL|800 N  ALAMEDA   ...|        NULL|34.0615|-118.2412|\n",
      "|200100514|2020-01-05|2020-01-05|    1355|   1|    Central|        162|       1|   341|THEFT-GRAND ($950...|      1822 0344 2032|      41|       M|           A|      503|               HOTEL|          NULL|                NULL|    AA|Adult Arrest|     341|    NULL|    NULL|    NULL|800 S  OLIVE     ...|        NULL|34.0452|-118.2569|\n",
      "|200100515|2020-01-07|2020-01-07|    1638|   1|    Central|        162|       1|   648|               ARSON|      1402 1501 2004|       0|       X|           X|      404|    DEPARTMENT STORE|           500|UNKNOWN WEAPON/OT...|    IC| Invest Cont|     648|     998|    NULL|    NULL|700 W  7TH       ...|        NULL| 34.048|-118.2577|\n",
      "|200100520|2020-01-08|2020-01-08|    1805|   1|    Central|        128|       1|   442|SHOPLIFTING - PET...| 0325 1402 0344 1822|      24|       F|           H|      252|COFFEE SHOP (STAR...|          NULL|                NULL|    IC| Invest Cont|     442|    NULL|    NULL|    NULL|100 S  LOS ANGELE...|        NULL|34.0515|-118.2424|\n",
      "|211916029|2021-11-26|2020-11-30|     730|  19|    Mission|       1916|       2|   626|INTIMATE PARTNER ...|      2000 1814 0416|      24|       F|           H|      501|SINGLE FAMILY DWE...|           400|STRONG-ARM (HANDS...|    IC| Invest Cont|     626|    NULL|    NULL|    NULL|14200    BERG    ...|        NULL|34.3055|-118.4439|\n",
      "|201116159|2020-11-29|2020-11-28|    2018|  11|  Northeast|       1124|       2|   626|INTIMATE PARTNER ...| 0400 0416 1814 2000|      34|       F|           H|      501|SINGLE FAMILY DWE...|           400|STRONG-ARM (HANDS...|    AO| Adult Other|     626|    NULL|    NULL|    NULL|   3200 W  AVENUE 32|        NULL|34.1186| -118.245|\n",
      "|200506268|2020-02-22|2020-02-22|    1900|   5|     Harbor|        511|       1|   440|THEFT PLAIN - PET...|0319 0344 0429 04...|      29|       F|           W|      102|            SIDEWALK|           400|STRONG-ARM (HANDS...|    IC| Invest Cont|     440|     624|    NULL|    NULL|       PACIFIC COAST|     VERMONT|33.7926|-118.3043|\n",
      "|210916801|2021-11-22|2020-11-19|    1200|   9|   Van Nuys|        932|       2|   354|   THEFT OF IDENTITY|           1501 1822|      46|       M|           B|      502|MULTI-UNIT DWELLI...|          NULL|                NULL|    IC| Invest Cont|     354|    NULL|    NULL|    NULL|14700    FRIAR   ...|        NULL|34.1857|-118.4574|\n",
      "|200100535|2020-01-14|2020-01-14|    1330|   1|    Central|        152|       1|   210|             ROBBERY|0416 0411 0344 18...|      66|       M|           B|      103|               ALLEY|           204|       FOLDING KNIFE|    IC| Invest Cont|     210|    NULL|    NULL|    NULL|                 7TH|        HILL|34.0463| -118.255|\n",
      "+---------+----------+----------+--------+----+-----------+-----------+--------+------+--------------------+--------------------+--------+--------+------------+---------+--------------------+--------------+--------------------+------+------------+--------+--------+--------+--------+--------------------+------------+-------+---------+\n",
      "only showing top 20 rows\n",
      "\n"
     ]
    }
   ],
   "source": [
    "df1 = spark.read.csv(\"./data/Crime_Data_from_2020_to_Present.csv\", header = True, inferSchema = True)\n",
    "df2 = spark.read.csv(\"./data/Crime_Data_from_2010_to_2019.csv\", header=True, inferSchema=True)\n",
    "\n",
    "Dataframe = df1.union(df2)\n",
    "\n",
    "Dataframe = Dataframe.withColumn(\"Date Rptd\", F.to_date(\"Date Rptd\", \"MM/dd/yyyy hh:mm:ss a\"))\n",
    "Dataframe = Dataframe.withColumn(\"DATE OCC\", F.to_date(\"DATE OCC\", \"MM/dd/yyyy hh:mm:ss a\"))\n",
    "Dataframe = Dataframe.withColumn(\"Vict Age\", F.col(\"Vict Age\").cast(\"int\"))\n",
    "Dataframe = Dataframe.withColumn(\"LAT\", F.col(\"LAT\").cast(\"double\"))\n",
    "Dataframe = Dataframe.withColumn(\"LON\", F.col(\"LON\").cast(\"double\"))\n",
    "\n",
    "Dataframe.show()"
   ]
  },
  {
   "cell_type": "code",
   "execution_count": 4,
   "metadata": {},
   "outputs": [
    {
     "name": "stdout",
     "output_type": "stream",
     "text": [
      "Total Rows: 2979324\n"
     ]
    }
   ],
   "source": [
    "total_rows = Dataframe.count()\n",
    "print(f\"Total Rows: {total_rows}\")\n"
   ]
  },
  {
   "cell_type": "code",
   "execution_count": 5,
   "metadata": {},
   "outputs": [
    {
     "name": "stdout",
     "output_type": "stream",
     "text": [
      "root\n",
      " |-- DR_NO: integer (nullable = true)\n",
      " |-- Date Rptd: date (nullable = true)\n",
      " |-- DATE OCC: date (nullable = true)\n",
      " |-- TIME OCC: integer (nullable = true)\n",
      " |-- AREA: integer (nullable = true)\n",
      " |-- AREA NAME: string (nullable = true)\n",
      " |-- Rpt Dist No: integer (nullable = true)\n",
      " |-- Part 1-2: integer (nullable = true)\n",
      " |-- Crm Cd: integer (nullable = true)\n",
      " |-- Crm Cd Desc: string (nullable = true)\n",
      " |-- Mocodes: string (nullable = true)\n",
      " |-- Vict Age: integer (nullable = true)\n",
      " |-- Vict Sex: string (nullable = true)\n",
      " |-- Vict Descent: string (nullable = true)\n",
      " |-- Premis Cd: integer (nullable = true)\n",
      " |-- Premis Desc: string (nullable = true)\n",
      " |-- Weapon Used Cd: integer (nullable = true)\n",
      " |-- Weapon Desc: string (nullable = true)\n",
      " |-- Status: string (nullable = true)\n",
      " |-- Status Desc: string (nullable = true)\n",
      " |-- Crm Cd 1: integer (nullable = true)\n",
      " |-- Crm Cd 2: integer (nullable = true)\n",
      " |-- Crm Cd 3: integer (nullable = true)\n",
      " |-- Crm Cd 4: integer (nullable = true)\n",
      " |-- LOCATION: string (nullable = true)\n",
      " |-- Cross Street: string (nullable = true)\n",
      " |-- LAT: double (nullable = true)\n",
      " |-- LON: double (nullable = true)\n",
      "\n"
     ]
    }
   ],
   "source": [
    "Dataframe.printSchema()"
   ]
  },
  {
   "cell_type": "markdown",
   "metadata": {},
   "source": [
    "Query 1 - Dataframe API"
   ]
  },
  {
   "cell_type": "code",
   "execution_count": 6,
   "metadata": {},
   "outputs": [
    {
     "name": "stderr",
     "output_type": "stream",
     "text": [
      "[Stage 8:=================================>                      (19 + 13) / 32]\r"
     ]
    },
    {
     "name": "stdout",
     "output_type": "stream",
     "text": [
      "+----+-----+-----------+-------+\n",
      "|year|month|crime_count|ranking|\n",
      "+----+-----+-----------+-------+\n",
      "|2010|    3|      17595|      1|\n",
      "|2010|    7|      17520|      2|\n",
      "|2010|    5|      17338|      3|\n",
      "|2011|    8|      17139|      1|\n",
      "|2011|    5|      17050|      2|\n",
      "|2011|    3|      16951|      3|\n",
      "|2012|    8|      17697|      1|\n",
      "|2012|   10|      17477|      2|\n",
      "|2012|    5|      17391|      3|\n",
      "|2013|    8|      17329|      1|\n",
      "|2013|    7|      16714|      2|\n",
      "|2013|    5|      16671|      3|\n",
      "|2014|   10|      14131|      1|\n",
      "|2014|    7|      14107|      2|\n",
      "|2014|    9|      13871|      3|\n",
      "|2015|    8|      18951|      1|\n",
      "|2015|   10|      18916|      2|\n",
      "|2015|    7|      18528|      3|\n",
      "|2016|    8|      19779|      1|\n",
      "|2016|   10|      19615|      2|\n",
      "|2016|    7|      19262|      3|\n",
      "|2017|   10|      20400|      1|\n",
      "|2017|    8|      20086|      2|\n",
      "|2017|    7|      19997|      3|\n",
      "|2018|    5|      20248|      1|\n",
      "|2018|    7|      19972|      2|\n",
      "|2018|   10|      19814|      3|\n",
      "|2019|    7|      19338|      1|\n",
      "|2019|    8|      19074|      2|\n",
      "|2019|    3|      18932|      3|\n",
      "|2020|    1|      18488|      1|\n",
      "|2020|    2|      17436|      2|\n",
      "|2020|    7|      17241|      3|\n",
      "|2021|   10|      23863|      1|\n",
      "|2021|   11|      23526|      2|\n",
      "|2021|    9|      23078|      3|\n",
      "|2022|    5|      21090|      1|\n",
      "|2022|    1|      20845|      2|\n",
      "|2022|    8|      20760|      3|\n",
      "|2023|    8|      20414|      1|\n",
      "|2023|    1|      20277|      2|\n",
      "|2023|    7|      20216|      3|\n",
      "+----+-----+-----------+-------+\n",
      "\n"
     ]
    },
    {
     "name": "stderr",
     "output_type": "stream",
     "text": [
      "                                                                                \r"
     ]
    }
   ],
   "source": [
    "crime_data = Dataframe.withColumn(\"year\", F.year(\"Date Rptd\"))\n",
    "crime_data = crime_data.withColumn(\"month\", F.month(\"Date Rptd\"))\n",
    "\n",
    "count_df = crime_data.groupBy(\"year\", \"month\").agg(F.count(\"*\").alias(\"crime_count\"))\n",
    "\n",
    "window_spec = Window.partitionBy(\"year\").orderBy(F.desc(\"crime_count\"))\n",
    "\n",
    "result = count_df.withColumn(\"ranking\", F.row_number().over(window_spec)).filter(\"ranking <= 3\").orderBy(\"year\", \"ranking\", \"month\")\n",
    "\n",
    "result.show(n=14*3)"
   ]
  },
  {
   "cell_type": "markdown",
   "metadata": {},
   "source": [
    "Query 1 - SQL API"
   ]
  },
  {
   "cell_type": "code",
   "execution_count": 7,
   "metadata": {},
   "outputs": [
    {
     "name": "stderr",
     "output_type": "stream",
     "text": [
      "[Stage 14:====================================>                  (21 + 11) / 32]\r"
     ]
    },
    {
     "name": "stdout",
     "output_type": "stream",
     "text": [
      "+----+-----+-----------+---+\n",
      "|year|month|crime_total|  #|\n",
      "+----+-----+-----------+---+\n",
      "|2010|    3|      17595|  1|\n",
      "|2010|    7|      17520|  2|\n",
      "|2010|    5|      17338|  3|\n",
      "|2011|    8|      17139|  1|\n",
      "|2011|    5|      17050|  2|\n",
      "|2011|    3|      16951|  3|\n",
      "|2012|    8|      17697|  1|\n",
      "|2012|   10|      17477|  2|\n",
      "|2012|    5|      17391|  3|\n",
      "|2013|    8|      17329|  1|\n",
      "|2013|    7|      16714|  2|\n",
      "|2013|    5|      16671|  3|\n",
      "|2014|   10|      14131|  1|\n",
      "|2014|    7|      14107|  2|\n",
      "|2014|    9|      13871|  3|\n",
      "|2015|    8|      18951|  1|\n",
      "|2015|   10|      18916|  2|\n",
      "|2015|    7|      18528|  3|\n",
      "|2016|    8|      19779|  1|\n",
      "|2016|   10|      19615|  2|\n",
      "+----+-----+-----------+---+\n",
      "only showing top 20 rows\n",
      "\n"
     ]
    },
    {
     "name": "stderr",
     "output_type": "stream",
     "text": [
      "                                                                                \r"
     ]
    }
   ],
   "source": [
    "Dataframe.createOrReplaceTempView(\"Crime_data\")\n",
    "\n",
    "result = spark.sql(\"\"\"\n",
    "    WITH RankedCrimeData AS (\n",
    "    SELECT\n",
    "        YEAR(`Date Rptd`) AS year,\n",
    "        MONTH(`Date Rptd`) AS month,\n",
    "        COUNT(*) AS `crime_total`,\n",
    "        ROW_NUMBER() OVER(PARTITION BY YEAR(`Date Rptd`) ORDER BY COUNT(*) DESC) as `#`\n",
    "    FROM Crime_data\n",
    "    GROUP BY year, month\n",
    ")\n",
    "SELECT year, month, crime_total, `#`\n",
    "FROM RankedCrimeData\n",
    "WHERE `#` <= 3\n",
    "ORDER BY year, `#`, month;\n",
    "\"\"\")\n",
    "\n",
    "result.show()\n"
   ]
  },
  {
   "cell_type": "markdown",
   "metadata": {},
   "source": [
    "Query 2 - Dataframe API"
   ]
  },
  {
   "cell_type": "code",
   "execution_count": 8,
   "metadata": {},
   "outputs": [
    {
     "name": "stderr",
     "output_type": "stream",
     "text": [
      "                                                                                \r"
     ]
    },
    {
     "name": "stdout",
     "output_type": "stream",
     "text": [
      "Total street crimes: 692989\n"
     ]
    },
    {
     "name": "stderr",
     "output_type": "stream",
     "text": [
      "[Stage 23:===========================>                           (16 + 16) / 32]\r"
     ]
    },
    {
     "name": "stdout",
     "output_type": "stream",
     "text": [
      "+-----------+-----------+\n",
      "|Time of day|crime_count|\n",
      "+-----------+-----------+\n",
      "|    morning|     123128|\n",
      "|       noon|     147303|\n",
      "|  afternoon|     186208|\n",
      "|      night|     236350|\n",
      "+-----------+-----------+\n",
      "\n"
     ]
    },
    {
     "name": "stderr",
     "output_type": "stream",
     "text": [
      "                                                                                \r"
     ]
    }
   ],
   "source": [
    "street_crimes = Dataframe.filter(Dataframe['Premis Desc'] == 'STREET')\n",
    "\n",
    "total_rows = street_crimes.count()\n",
    "print(f\"Total street crimes: {total_rows}\")\n",
    "\n",
    "\n",
    "street_crimes = street_crimes.withColumn(\n",
    "    \"Time of day\",\n",
    "    F.when((F.col(\"TIME OCC\") >= 500) & (F.col(\"TIME OCC\") < 1200), \"morning\")\n",
    "    .when((F.col(\"TIME OCC\") >= 1200) & (F.col(\"TIME OCC\") < 1700), \"noon\")\n",
    "    .when((F.col(\"TIME OCC\") >= 1700) & (F.col(\"TIME OCC\") < 2100), \"afternoon\")\n",
    "    .when((F.col(\"TIME OCC\") >= 2100) | (F.col(\"TIME OCC\") < 500), \"night\")\n",
    "    .otherwise(\"unknown\")\n",
    ")\n",
    "\n",
    "street_crime_counts_by_time_of_day = street_crimes.groupBy(\"Time of day\").agg(F.count(\"*\").alias(\"crime_count\")).orderBy(\"crime_count\")\n",
    "\n",
    "street_crime_counts_by_time_of_day.show()"
   ]
  },
  {
   "cell_type": "markdown",
   "metadata": {},
   "source": [
    "Query 2 - RDD API"
   ]
  },
  {
   "cell_type": "code",
   "execution_count": 9,
   "metadata": {},
   "outputs": [],
   "source": [
    "Dataframe_rdd = Dataframe.rdd"
   ]
  },
  {
   "cell_type": "code",
   "execution_count": 10,
   "metadata": {},
   "outputs": [
    {
     "name": "stderr",
     "output_type": "stream",
     "text": [
      "                                                                                \r"
     ]
    },
    {
     "data": {
      "text/plain": [
       "[('morning', 123128),\n",
       " ('noon', 147303),\n",
       " ('afternoon', 186208),\n",
       " ('night', 236350)]"
      ]
     },
     "execution_count": 10,
     "metadata": {},
     "output_type": "execute_result"
    }
   ],
   "source": [
    "street_crimes_rdd = Dataframe_rdd.filter(lambda row: row['Premis Desc'] == 'STREET')\n",
    "\n",
    "def time_of_day(hour):\n",
    "    if 500 <= hour < 1200:\n",
    "        return \"morning\"\n",
    "    elif 1200 <= hour < 1700:\n",
    "        return \"noon\"\n",
    "    elif 1700 <= hour < 2100:\n",
    "        return \"afternoon\"\n",
    "    elif 2100 <= hour or hour < 500:\n",
    "        return \"night\"\n",
    "    else:\n",
    "        return \"unknown\"\n",
    "\n",
    "street_crimes_rdd_with_time_of_day = street_crimes_rdd.map(lambda row: row + (\"Time of day\", time_of_day(row['TIME OCC'])))\n",
    "\n",
    "street_crime_counts_by_time_of_day_rdd = street_crimes_rdd_with_time_of_day.map(lambda row: (row[-1], 1)).reduceByKey(lambda x, y: x + y).sortBy(lambda x: x[1])\n",
    "\n",
    "street_crime_counts_by_time_of_day_rdd.collect()\n"
   ]
  },
  {
   "cell_type": "markdown",
   "metadata": {},
   "source": [
    "Query 3 - Dataframe API"
   ]
  },
  {
   "cell_type": "code",
   "execution_count": 11,
   "metadata": {},
   "outputs": [],
   "source": [
    "join_hint = \"broadcast\""
   ]
  },
  {
   "cell_type": "code",
   "execution_count": 12,
   "metadata": {},
   "outputs": [],
   "source": [
    "crime_data_2015 = Dataframe.filter(F.year(\"Date Rptd\") == 2015)\n",
    "crime_data_2015 = crime_data_2015.filter(F.col(\"Vict Descent\").isNotNull())\n",
    "\n",
    "revgecoding_file = \"./data/revgecoding.csv\"\n",
    "\n",
    "revgecoding_df = spark.read.csv(revgecoding_file, header=True, inferSchema=True)\n"
   ]
  },
  {
   "cell_type": "code",
   "execution_count": 13,
   "metadata": {},
   "outputs": [
    {
     "name": "stderr",
     "output_type": "stream",
     "text": [
      "24/01/30 00:36:31 WARN HintErrorLogger: Hint (strategy=broadcast) is not supported in the query: build left for left outer join.\n"
     ]
    },
    {
     "name": "stdout",
     "output_type": "stream",
     "text": [
      "+------------+-------+\n",
      "|Vict Descent|ZIPcode|\n",
      "+------------+-------+\n",
      "|           W|  91356|\n",
      "|           K|  90029|\n",
      "|           W|  90036|\n",
      "|           B|  90034|\n",
      "|           W|  91402|\n",
      "|           H|  90059|\n",
      "|           B|  90502|\n",
      "|           H|  90065|\n",
      "|           H|  90052|\n",
      "|           H|  91340|\n",
      "|           H|  90027|\n",
      "|           H|  90007|\n",
      "|           H|   NULL|\n",
      "|           H|  91328|\n",
      "|           H|  91331|\n",
      "|           B|  90043|\n",
      "|           H|  91340|\n",
      "|           H|  91306|\n",
      "|           B|  91365|\n",
      "|           H|   NULL|\n",
      "+------------+-------+\n",
      "only showing top 20 rows\n",
      "\n"
     ]
    },
    {
     "name": "stderr",
     "output_type": "stream",
     "text": [
      "                                                                                \r"
     ]
    }
   ],
   "source": [
    "crime_data_2015 = crime_data_2015.hint(join_hint).join(revgecoding_df, ['LAT', 'LON'], 'left_outer').select(\"Vict Descent\", \"ZIPcode\")\n",
    "crime_data_2015.show()"
   ]
  },
  {
   "cell_type": "code",
   "execution_count": 14,
   "metadata": {},
   "outputs": [
    {
     "name": "stderr",
     "output_type": "stream",
     "text": [
      "24/01/30 00:36:32 WARN HintErrorLogger: Hint (strategy=broadcast) is not supported in the query: build left for left outer join.\n",
      "24/01/30 00:36:34 WARN HintErrorLogger: Hint (strategy=broadcast) is not supported in the query: build left for left outer join.\n",
      "[Stage 44:===========================>                           (16 + 16) / 32]\r"
     ]
    },
    {
     "name": "stdout",
     "output_type": "stream",
     "text": [
      "No corresponding zip code for 1934 values out of  190439\n"
     ]
    },
    {
     "name": "stderr",
     "output_type": "stream",
     "text": [
      "                                                                                \r"
     ]
    }
   ],
   "source": [
    "print(\"No corresponding zip code for\", crime_data_2015.filter(F.col(\"ZIPcode\").isNull()).count(), \"values out of \", crime_data_2015.count())\n",
    "crime_data_2015 = crime_data_2015.filter(F.col(\"ZIPcode\").isNotNull())"
   ]
  },
  {
   "cell_type": "code",
   "execution_count": 15,
   "metadata": {},
   "outputs": [],
   "source": [
    "median_income_file = \"./data/LA_income_2015.csv\"\n",
    "\n",
    "median_income_df = spark.read.csv(median_income_file, header=True, inferSchema=True)\n",
    "\n",
    "median_income_df = median_income_df.withColumn(\"Estimated Median Income\", F.regexp_replace(F.col(\"Estimated Median Income\"), \"[^\\d.]\", \"\").cast(\"int\"))\n",
    "\n",
    "top_incomes = median_income_df.orderBy(F.col(\"Estimated Median Income\").desc()).limit(3)\n",
    "\n",
    "lowest_incomes = median_income_df.orderBy(F.col(\"Estimated Median Income\")).limit(3)"
   ]
  },
  {
   "cell_type": "code",
   "execution_count": 16,
   "metadata": {},
   "outputs": [
    {
     "name": "stdout",
     "output_type": "stream",
     "text": [
      "+--------+--------------------+-----------------------+\n",
      "|Zip Code|           Community|Estimated Median Income|\n",
      "+--------+--------------------+-----------------------+\n",
      "|   90272|Los Angeles (Cast...|                 166021|\n",
      "|   90077|Los Angeles (Bel ...|                 164281|\n",
      "|   91210|Glendale (Glendal...|                 158162|\n",
      "+--------+--------------------+-----------------------+\n",
      "\n"
     ]
    }
   ],
   "source": [
    "top_incomes.show()"
   ]
  },
  {
   "cell_type": "code",
   "execution_count": 17,
   "metadata": {},
   "outputs": [
    {
     "name": "stdout",
     "output_type": "stream",
     "text": [
      "+--------+--------------------+-----------------------+\n",
      "|Zip Code|           Community|Estimated Median Income|\n",
      "+--------+--------------------+-----------------------+\n",
      "|   90021|Los Angeles (Down...|                  12813|\n",
      "|   91046|Glendale (Verdugo...|                  15568|\n",
      "|   90058|Los Angeles (Sout...|                  17018|\n",
      "+--------+--------------------+-----------------------+\n",
      "\n"
     ]
    }
   ],
   "source": [
    "lowest_incomes.show()"
   ]
  },
  {
   "cell_type": "code",
   "execution_count": 18,
   "metadata": {},
   "outputs": [],
   "source": [
    "descents_low = crime_data_2015.hint(join_hint).join(lowest_incomes, F.col(\"ZIPcode\") == F.col(\"Zip Code\"), \"inner\")\n",
    "descents_high = crime_data_2015.hint(join_hint).join(top_incomes, F.col(\"ZIPcode\") == F.col(\"Zip Code\"), \"inner\")\n",
    "\n",
    "descents_low = descents_low.groupBy(\"Vict Descent\").agg(F.count(\"*\"))\n",
    "descents_high = descents_high.groupBy(\"Vict Descent\").agg(F.count(\"*\"))\n",
    "\n",
    "descents_low = descents_low.withColumnRenamed(\"Vict Descent\", \"Victim Descent\")\n",
    "descents_low = descents_low.withColumnRenamed(\"count(1)\", \"#\")\n",
    "\n",
    "descents_high = descents_high.withColumnRenamed(\"Vict Descent\", \"Victim Descent\")\n",
    "descents_high = descents_high.withColumnRenamed(\"count(1)\", \"#\")"
   ]
  },
  {
   "cell_type": "code",
   "execution_count": 19,
   "metadata": {},
   "outputs": [
    {
     "name": "stderr",
     "output_type": "stream",
     "text": [
      "                                                                                \r"
     ]
    },
    {
     "name": "stdout",
     "output_type": "stream",
     "text": [
      "+--------------+---+\n",
      "|Victim Descent|  #|\n",
      "+--------------+---+\n",
      "|             W|312|\n",
      "|             H| 51|\n",
      "|             B| 14|\n",
      "|             X| 26|\n",
      "|             O|102|\n",
      "|             A| 16|\n",
      "+--------------+---+\n",
      "\n"
     ]
    }
   ],
   "source": [
    "descents_high.show()"
   ]
  },
  {
   "cell_type": "code",
   "execution_count": 20,
   "metadata": {},
   "outputs": [
    {
     "name": "stdout",
     "output_type": "stream",
     "text": [
      "== Physical Plan ==\n",
      "AdaptiveSparkPlan isFinalPlan=false\n",
      "+- HashAggregate(keys=[Vict Descent#30], functions=[count(1)])\n",
      "   +- HashAggregate(keys=[Vict Descent#30], functions=[partial_count(1)])\n",
      "      +- Project [Vict Descent#30]\n",
      "         +- BroadcastHashJoin [cast(ZIPcode#909 as int)], [Zip Code#1020], Inner, BuildLeft, false\n",
      "            :- BroadcastExchange HashedRelationBroadcastMode(List(cast(cast(input[1, string, true] as int) as bigint)),false), [plan_id=1612]\n",
      "            :  +- Project [Vict Descent#30, ZIPcode#909]\n",
      "            :     +- BroadcastHashJoin [knownfloatingpointnormalized(normalizenanandzero(LAT#43)), knownfloatingpointnormalized(normalizenanandzero(LON#44))], [knownfloatingpointnormalized(normalizenanandzero(LAT#907)), knownfloatingpointnormalized(normalizenanandzero(LON#908))], Inner, BuildLeft, false\n",
      "            :        :- BroadcastExchange HashedRelationBroadcastMode(List(knownfloatingpointnormalized(normalizenanandzero(input[1, double, true])), knownfloatingpointnormalized(normalizenanandzero(input[2, double, true]))),false), [plan_id=1608]\n",
      "            :        :  +- Union\n",
      "            :        :     :- Project [Vict Descent#30, LAT#43, LON#44]\n",
      "            :        :     :  +- Filter ((((year(cast(gettimestamp(Date Rptd#18, MM/dd/yyyy hh:mm:ss a, TimestampType, Some(Europe/Athens), false) as date)) = 2015) AND isnotnull(Vict Descent#30)) AND isnotnull(LAT#43)) AND isnotnull(LON#44))\n",
      "            :        :     :     +- FileScan csv [Date Rptd#18,Vict Descent#30,LAT#43,LON#44] Batched: false, DataFilters: [(year(cast(gettimestamp(Date Rptd#18, MM/dd/yyyy hh:mm:ss a, TimestampType, Some(Europe/Athens),..., Format: CSV, Location: InMemoryFileIndex(1 paths)[file:/home/vpap/Desktop/Spark AdvDB/data/Crime_Data_from_2020_to_Prese..., PartitionFilters: [], PushedFilters: [IsNotNull(Vict Descent), IsNotNull(LAT), IsNotNull(LON)], ReadSchema: struct<Date Rptd:string,Vict Descent:string,LAT:double,LON:double>\n",
      "            :        :     +- Project [Vict Descent#103, LAT#116, LON#117]\n",
      "            :        :        +- Filter ((((year(cast(gettimestamp(Date Rptd#91, MM/dd/yyyy hh:mm:ss a, TimestampType, Some(Europe/Athens), false) as date)) = 2015) AND isnotnull(Vict Descent#103)) AND isnotnull(LAT#116)) AND isnotnull(LON#117))\n",
      "            :        :           +- FileScan csv [Date Rptd#91,Vict Descent#103,LAT#116,LON#117] Batched: false, DataFilters: [(year(cast(gettimestamp(Date Rptd#91, MM/dd/yyyy hh:mm:ss a, TimestampType, Some(Europe/Athens),..., Format: CSV, Location: InMemoryFileIndex(1 paths)[file:/home/vpap/Desktop/Spark AdvDB/data/Crime_Data_from_2010_to_2019...., PartitionFilters: [], PushedFilters: [IsNotNull(Vict Descent), IsNotNull(LAT), IsNotNull(LON)], ReadSchema: struct<Date Rptd:string,Vict Descent:string,LAT:double,LON:double>\n",
      "            :        +- Filter ((isnotnull(ZIPcode#909) AND isnotnull(LAT#907)) AND isnotnull(LON#908))\n",
      "            :           +- FileScan csv [LAT#907,LON#908,ZIPcode#909] Batched: false, DataFilters: [isnotnull(ZIPcode#909), isnotnull(LAT#907), isnotnull(LON#908)], Format: CSV, Location: InMemoryFileIndex(1 paths)[file:/home/vpap/Desktop/Spark AdvDB/data/revgecoding.csv], PartitionFilters: [], PushedFilters: [IsNotNull(ZIPcode), IsNotNull(LAT), IsNotNull(LON)], ReadSchema: struct<LAT:double,LON:double,ZIPcode:string>\n",
      "            +- Filter isnotnull(Zip Code#1020)\n",
      "               +- TakeOrderedAndProject(limit=3, orderBy=[Estimated Median Income#1026 DESC NULLS LAST], output=[Zip Code#1020])\n",
      "                  +- Project [Zip Code#1020, cast(regexp_replace(Estimated Median Income#1022, [^\\d.], , 1) as int) AS Estimated Median Income#1026]\n",
      "                     +- FileScan csv [Zip Code#1020,Estimated Median Income#1022] Batched: false, DataFilters: [], Format: CSV, Location: InMemoryFileIndex(1 paths)[file:/home/vpap/Desktop/Spark AdvDB/data/LA_income_2015.csv], PartitionFilters: [], PushedFilters: [], ReadSchema: struct<Zip Code:int,Estimated Median Income:string>\n",
      "\n",
      "\n"
     ]
    }
   ],
   "source": [
    "descents_high.explain()"
   ]
  },
  {
   "cell_type": "code",
   "execution_count": 21,
   "metadata": {},
   "outputs": [
    {
     "name": "stderr",
     "output_type": "stream",
     "text": [
      "                                                                                \r"
     ]
    },
    {
     "name": "stdout",
     "output_type": "stream",
     "text": [
      "+--------------+---+\n",
      "|Victim Descent|  #|\n",
      "+--------------+---+\n",
      "|             C|  1|\n",
      "|             H|985|\n",
      "|             B|323|\n",
      "|             W|267|\n",
      "|             O|160|\n",
      "|             X| 44|\n",
      "|             A| 28|\n",
      "|             K|  3|\n",
      "|             I|  1|\n",
      "+--------------+---+\n",
      "\n"
     ]
    }
   ],
   "source": [
    "descents_low.show()"
   ]
  },
  {
   "cell_type": "code",
   "execution_count": 22,
   "metadata": {},
   "outputs": [
    {
     "name": "stdout",
     "output_type": "stream",
     "text": [
      "== Physical Plan ==\n",
      "AdaptiveSparkPlan isFinalPlan=false\n",
      "+- HashAggregate(keys=[Vict Descent#30], functions=[count(1)])\n",
      "   +- HashAggregate(keys=[Vict Descent#30], functions=[partial_count(1)])\n",
      "      +- Project [Vict Descent#30]\n",
      "         +- BroadcastHashJoin [cast(ZIPcode#909 as int)], [Zip Code#1020], Inner, BuildLeft, false\n",
      "            :- BroadcastExchange HashedRelationBroadcastMode(List(cast(cast(input[1, string, true] as int) as bigint)),false), [plan_id=1943]\n",
      "            :  +- Project [Vict Descent#30, ZIPcode#909]\n",
      "            :     +- BroadcastHashJoin [knownfloatingpointnormalized(normalizenanandzero(LAT#43)), knownfloatingpointnormalized(normalizenanandzero(LON#44))], [knownfloatingpointnormalized(normalizenanandzero(LAT#907)), knownfloatingpointnormalized(normalizenanandzero(LON#908))], Inner, BuildLeft, false\n",
      "            :        :- BroadcastExchange HashedRelationBroadcastMode(List(knownfloatingpointnormalized(normalizenanandzero(input[1, double, true])), knownfloatingpointnormalized(normalizenanandzero(input[2, double, true]))),false), [plan_id=1939]\n",
      "            :        :  +- Union\n",
      "            :        :     :- Project [Vict Descent#30, LAT#43, LON#44]\n",
      "            :        :     :  +- Filter ((((year(cast(gettimestamp(Date Rptd#18, MM/dd/yyyy hh:mm:ss a, TimestampType, Some(Europe/Athens), false) as date)) = 2015) AND isnotnull(Vict Descent#30)) AND isnotnull(LAT#43)) AND isnotnull(LON#44))\n",
      "            :        :     :     +- FileScan csv [Date Rptd#18,Vict Descent#30,LAT#43,LON#44] Batched: false, DataFilters: [(year(cast(gettimestamp(Date Rptd#18, MM/dd/yyyy hh:mm:ss a, TimestampType, Some(Europe/Athens),..., Format: CSV, Location: InMemoryFileIndex(1 paths)[file:/home/vpap/Desktop/Spark AdvDB/data/Crime_Data_from_2020_to_Prese..., PartitionFilters: [], PushedFilters: [IsNotNull(Vict Descent), IsNotNull(LAT), IsNotNull(LON)], ReadSchema: struct<Date Rptd:string,Vict Descent:string,LAT:double,LON:double>\n",
      "            :        :     +- Project [Vict Descent#103, LAT#116, LON#117]\n",
      "            :        :        +- Filter ((((year(cast(gettimestamp(Date Rptd#91, MM/dd/yyyy hh:mm:ss a, TimestampType, Some(Europe/Athens), false) as date)) = 2015) AND isnotnull(Vict Descent#103)) AND isnotnull(LAT#116)) AND isnotnull(LON#117))\n",
      "            :        :           +- FileScan csv [Date Rptd#91,Vict Descent#103,LAT#116,LON#117] Batched: false, DataFilters: [(year(cast(gettimestamp(Date Rptd#91, MM/dd/yyyy hh:mm:ss a, TimestampType, Some(Europe/Athens),..., Format: CSV, Location: InMemoryFileIndex(1 paths)[file:/home/vpap/Desktop/Spark AdvDB/data/Crime_Data_from_2010_to_2019...., PartitionFilters: [], PushedFilters: [IsNotNull(Vict Descent), IsNotNull(LAT), IsNotNull(LON)], ReadSchema: struct<Date Rptd:string,Vict Descent:string,LAT:double,LON:double>\n",
      "            :        +- Filter ((isnotnull(ZIPcode#909) AND isnotnull(LAT#907)) AND isnotnull(LON#908))\n",
      "            :           +- FileScan csv [LAT#907,LON#908,ZIPcode#909] Batched: false, DataFilters: [isnotnull(ZIPcode#909), isnotnull(LAT#907), isnotnull(LON#908)], Format: CSV, Location: InMemoryFileIndex(1 paths)[file:/home/vpap/Desktop/Spark AdvDB/data/revgecoding.csv], PartitionFilters: [], PushedFilters: [IsNotNull(ZIPcode), IsNotNull(LAT), IsNotNull(LON)], ReadSchema: struct<LAT:double,LON:double,ZIPcode:string>\n",
      "            +- Filter isnotnull(Zip Code#1020)\n",
      "               +- TakeOrderedAndProject(limit=3, orderBy=[Estimated Median Income#1026 ASC NULLS FIRST], output=[Zip Code#1020])\n",
      "                  +- Project [Zip Code#1020, cast(regexp_replace(Estimated Median Income#1022, [^\\d.], , 1) as int) AS Estimated Median Income#1026]\n",
      "                     +- FileScan csv [Zip Code#1020,Estimated Median Income#1022] Batched: false, DataFilters: [], Format: CSV, Location: InMemoryFileIndex(1 paths)[file:/home/vpap/Desktop/Spark AdvDB/data/LA_income_2015.csv], PartitionFilters: [], PushedFilters: [], ReadSchema: struct<Zip Code:int,Estimated Median Income:string>\n",
      "\n",
      "\n"
     ]
    }
   ],
   "source": [
    "descents_low.explain()"
   ]
  },
  {
   "cell_type": "code",
   "execution_count": 23,
   "metadata": {},
   "outputs": [
    {
     "name": "stdout",
     "output_type": "stream",
     "text": [
      "Spark UI:  http://AORUS.home:4040\n"
     ]
    }
   ],
   "source": [
    "print(\"Spark UI: \", spark.sparkContext.uiWebUrl)"
   ]
  },
  {
   "cell_type": "markdown",
   "metadata": {},
   "source": [
    "Query 4a - Dataframe API"
   ]
  },
  {
   "cell_type": "code",
   "execution_count": 24,
   "metadata": {},
   "outputs": [
    {
     "name": "stdout",
     "output_type": "stream",
     "text": [
      "+---------+----------+----------+--------+----+----------+-----------+--------+------+--------------------+--------------------+--------+--------+------------+---------+--------------------+--------------+--------------------+------+------------+--------+--------+--------+--------+--------------------+--------------------+-------+---------+\n",
      "|    DR_NO| Date Rptd|  DATE OCC|TIME OCC|AREA| AREA NAME|Rpt Dist No|Part 1-2|Crm Cd|         Crm Cd Desc|             Mocodes|Vict Age|Vict Sex|Vict Descent|Premis Cd|         Premis Desc|Weapon Used Cd|         Weapon Desc|Status| Status Desc|Crm Cd 1|Crm Cd 2|Crm Cd 3|Crm Cd 4|            LOCATION|        Cross Street|    LAT|      LON|\n",
      "+---------+----------+----------+--------+----+----------+-----------+--------+------+--------------------+--------------------+--------+--------+------------+---------+--------------------+--------------+--------------------+------+------------+--------+--------+--------+--------+--------------------+--------------------+-------+---------+\n",
      "|200218458|2020-12-11|2020-12-11|     420|   2|   Rampart|        233|       1|   761|     BRANDISH WEAPON|1822 0334 0319 04...|      34|       M|           W|      108|         PARKING LOT|           109|SEMI-AUTOMATIC PI...|    AO| Adult Other|     761|     998|    NULL|    NULL|2500    BEVERLY  ...|                NULL|34.0708|-118.2798|\n",
      "|200104098|2020-01-02|2020-01-02|    1240|   1|   Central|        154|       1|   210|             ROBBERY|2004 0913 0344 03...|      61|       M|           W|      502|MULTI-UNIT DWELLI...|           102|            HAND GUN|    AO| Adult Other|     210|     998|    NULL|    NULL|100 E  5TH       ...|                NULL|34.0467|-118.2485|\n",
      "|200104228|2020-01-04|2020-01-03|    1850|   1|   Central|        159|       1|   210|             ROBBERY|0305 1309 0355 03...|      28|       M|           H|      101|              STREET|           102|            HAND GUN|    IC| Invest Cont|     210|    NULL|    NULL|    NULL|                 4TH|              SEATON|34.0433|-118.2377|\n",
      "|200317571|2020-09-19|2020-09-19|    1040|   3| Southwest|        353|       1|   210|             ROBBERY|1822 0342 1100 03...|      23|       M|           B|      101|              STREET|           102|            HAND GUN|    IC| Invest Cont|     210|    NULL|    NULL|    NULL|OBAMA            ...|VIRGINIA         ...|34.0215|-118.3393|\n",
      "|200400694|2020-03-26|2020-03-26|    1435|   4|Hollenbeck|        422|       1|   230|ASSAULT WITH DEAD...|0906 0302 1309 03...|      23|       M|           H|      102|            SIDEWALK|           102|            HAND GUN|    IC| Invest Cont|     230|     998|    NULL|    NULL|2200    THOMAS   ...|                NULL|34.0707|-118.2103|\n",
      "|200101185|2020-12-28|2020-12-28|    1810|   1|   Central|        174|       1|   230|ASSAULT WITH DEAD...|1309 1414 0913 11...|      57|       M|           B|      108|         PARKING LOT|           109|SEMI-AUTOMATIC PI...|    AA|Adult Arrest|     230|     998|    NULL|    NULL|700 S  SPRING    ...|                NULL| 34.044|-118.2528|\n",
      "|201610902|2020-07-09|2020-07-09|    1755|  16|  Foothill|       1675|       1|   210|             ROBBERY|           0344 0375|      35|       F|           O|      210|RESTAURANT/FAST FOOD|           104|             SHOTGUN|    AA|Adult Arrest|     210|    NULL|    NULL|    NULL|8700    SUNLAND  ...|                NULL|34.2309|-118.3727|\n",
      "|200312028|2020-05-29|2020-05-29|     125|   3| Southwest|        312|       1|   251|SHOTS FIRED AT IN...|      0329 1202 1822|      60|       F|           H|      502|MULTI-UNIT DWELLI...|           102|            HAND GUN|    IC| Invest Cont|     251|    NULL|    NULL|    NULL|2900 S  REDONDO  ...|                NULL|34.0271|-118.3585|\n",
      "|200104848|2020-01-12|2020-01-11|    1800|   1|   Central|        153|       2|   930|CRIMINAL THREATS ...|      0334 0421 1822|      62|       M|           H|      101|              STREET|           113|       SIMULATED GUN|    IC| Invest Cont|     930|    NULL|    NULL|    NULL|200 W  7TH       ...|                NULL|34.0467| -118.252|\n",
      "|202018863|2020-12-27|2020-12-27|    2114|  20|   Olympic|       2038|       1|   230|ASSAULT WITH DEAD...|1822 0340 0342 14...|      22|       M|           H|      102|            SIDEWALK|           102|            HAND GUN|    AO| Adult Other|     230|     998|    NULL|    NULL|600    SHATTO    ...|                NULL|34.0605|-118.2903|\n",
      "|200118692|2020-09-30|2020-09-30|     410|   1|   Central|        185|       1|   210|             ROBBERY|0344 0334 1311 13...|      29|       M|           H|      101|              STREET|           109|SEMI-AUTOMATIC PI...|    JA|  Juv Arrest|     210|    NULL|    NULL|    NULL|            BROADWAY|                PICO|34.0377|-118.2607|\n",
      "|201311277|2020-05-23|2020-05-23|    1346|  13|    Newton|       1362|       1|   230|ASSAULT WITH DEAD...| 1402 0906 1822 0852|      22|       M|           H|      108|         PARKING LOT|           102|            HAND GUN|    IC| Invest Cont|     230|     998|    NULL|    NULL|4900 S  SAN PEDRO...|                NULL|33.9985|-118.2696|\n",
      "|200105055|2020-01-15|2020-01-15|    1845|   1|   Central|        154|       1|   220|   ATTEMPTED ROBBERY|0906 1218 1536 03...|      50|       M|           B|      102|            SIDEWALK|           102|            HAND GUN|    IC| Invest Cont|     220|    NULL|    NULL|    NULL|                 6TH|                MAIN|34.0446| -118.249|\n",
      "|200616504|2020-10-10|2020-10-09|    2345|   6| Hollywood|        647|       1|   210|             ROBBERY|0344 0334 1100 13...|      29|       F|           B|      707|      GARAGE/CARPORT|           109|SEMI-AUTOMATIC PI...|    IC| Invest Cont|     210|     998|    NULL|    NULL|5800 W  SUNSET   ...|                NULL|34.0998|-118.3211|\n",
      "|200105194|2020-01-18|2020-01-17|    2200|   1|   Central|        171|       1|   210|             ROBBERY|0344 0337 0400 18...|      20|       M|           W|      108|         PARKING LOT|           102|            HAND GUN|    IC| Invest Cont|     210|    NULL|    NULL|    NULL|900 S  FIGUEROA  ...|                NULL|34.0457|-118.2665|\n",
      "|200105219|2020-01-18|2020-01-18|     255|   1|   Central|        158|       1|   230|ASSAULT WITH DEAD...|1402 1100 0430 18...|      38|       M|           H|      102|            SIDEWALK|           102|            HAND GUN|    IC| Invest Cont|     230|     998|    NULL|    NULL|800 E  6TH       ...|                NULL|34.0408|-118.2428|\n",
      "|200105347|2020-01-20|2020-01-20|    2205|   1|   Central|        164|       2|   753|DISCHARGE FIREARM...| 1414 1407 1822 1100|       0|       X|           X|      101|              STREET|           106|     UNKNOWN FIREARM|    IC| Invest Cont|     753|    NULL|    NULL|    NULL|600 S  SPRING    ...|                NULL| 34.046|-118.2509|\n",
      "|200105406|2020-01-21|2020-01-21|     950|   1|   Central|        111|       2|   753|DISCHARGE FIREARM...|           1100 1402|       0|       M|           H|      102|            SIDEWALK|           102|            HAND GUN|    IC| Invest Cont|     753|     998|    NULL|    NULL|500 N  BUNKER HIL...|                NULL|34.0606|-118.2455|\n",
      "|200105715|2020-01-26|2020-01-25|    2114|   1|   Central|        182|       1|   210|             ROBBERY|0340 0334 0302 03...|      25|       M|           W|      102|            SIDEWALK|           102|            HAND GUN|    IC| Invest Cont|     210|    NULL|    NULL|    NULL|               GRAND|                PICO|34.0389|-118.2643|\n",
      "|200105776|2020-01-26|2020-01-26|    1930|   1|   Central|        159|       2|   930|CRIMINAL THREATS ...|      0421 2004 0913|      35|       M|           B|      108|         PARKING LOT|           113|       SIMULATED GUN|    AA|Adult Arrest|     930|    NULL|    NULL|    NULL|                 7TH|               MATEO|34.0346|-118.2323|\n",
      "+---------+----------+----------+--------+----+----------+-----------+--------+------+--------------------+--------------------+--------+--------+------------+---------+--------------------+--------------+--------------------+------+------------+--------+--------+--------+--------+--------------------+--------------------+-------+---------+\n",
      "only showing top 20 rows\n",
      "\n"
     ]
    }
   ],
   "source": [
    "gun_crimes = Dataframe.filter(F.col('Weapon Used Cd').like('1%'))\n",
    "\n",
    "gun_crimes.show()"
   ]
  },
  {
   "cell_type": "code",
   "execution_count": 25,
   "metadata": {},
   "outputs": [
    {
     "name": "stdout",
     "output_type": "stream",
     "text": [
      "+--------------+----------------+---+----------------+--------------------+----+\n",
      "|             X|               Y|FID|        DIVISION|            LOCATION|PREC|\n",
      "+--------------+----------------+---+----------------+--------------------+----+\n",
      "|-118.289241553|33.7576608970001|  1|          HARBOR|2175 JOHN S. GIBS...|   5|\n",
      "|-118.275394206|33.9386273800001|  2|       SOUTHEAST|    145 W. 108TH ST.|  18|\n",
      "|-118.277669655|33.9703073800001|  3|     77TH STREET|    7600 S. BROADWAY|  12|\n",
      "|-118.419841576|33.9916553210001|  4|         PACIFIC|  12312 CULVER BLVD.|  14|\n",
      "|-118.305141563|34.0105753400001|  5|       SOUTHWEST|1546 MARTIN LUTHE...|   3|\n",
      "|-118.256118891|    34.012355905|  6|          NEWTON|3400 S. CENTRAL AVE.|  13|\n",
      "|-118.247294123|      34.0440195|  7|         CENTRAL|      251 E. 6TH ST.|   1|\n",
      "|-118.450779541|34.0437774120001|  8|WEST LOS ANGELES|    1663 BUTLER AVE.|   8|\n",
      "|-118.213067956|    34.045008769|  9|      HOLLENBECK|     2111 E. 1ST ST.|   4|\n",
      "|-118.342829525|    34.046747682| 10|        WILSHIRE|   4861 VENICE BLVD.|   7|\n",
      "|-118.291175911|    34.050208529| 11|         OLYMPIC|1130 S. VERMONT AVE.|  20|\n",
      "|-118.266979649|    34.056690437| 12|         RAMPART|     1401 W. 6TH ST.|   2|\n",
      "| -118.33066931|    34.095833225| 13|       HOLLYWOOD| 1358 N. WILCOX AVE.|   6|\n",
      "|-118.249414484|    34.119200666| 14|       NORTHEAST|3353 SAN FERNANDO...|  11|\n",
      "|-118.385859348|34.1716939300001| 15| NORTH HOLLYWOOD| 11640 BURBANK BLVD.|  15|\n",
      "|-118.445225709|34.1837432730001| 16|        VAN NUYS|    6240 SYLMAR AVE.|   9|\n",
      "|-118.547454438|    34.193397227| 17|     WEST VALLEY|   19020 VANOWEN ST.|  10|\n",
      "|-118.599636542|    34.221376654| 18|         TOPANGA|21501 SCHOENBORN ST.|  21|\n",
      "|-118.410417183|34.2530912220001| 19|        FOOTHILL|   12760 OSBORNE ST.|  16|\n",
      "|-118.531373363|    34.256969059| 20|      DEVONSHIRE| 10250 ETIWANDA AVE.|  17|\n",
      "+--------------+----------------+---+----------------+--------------------+----+\n",
      "only showing top 20 rows\n",
      "\n"
     ]
    }
   ],
   "source": [
    "LAPD_stations_file = \"./data/LAPD_Police_Stations.csv\"\n",
    "\n",
    "LAPD_stations_df = spark.read.csv(LAPD_stations_file, header=True, inferSchema=True)\n",
    "LAPD_stations_df= LAPD_stations_df.withColumn(\"X\", F.col(\"X\").cast(\"double\"))\n",
    "LAPD_stations_df= LAPD_stations_df.withColumn(\"Y\", F.col(\"Y\").cast(\"double\"))\n",
    "\n",
    "LAPD_stations_df.show()"
   ]
  },
  {
   "cell_type": "code",
   "execution_count": 26,
   "metadata": {},
   "outputs": [],
   "source": [
    "import geopy.distance\n",
    "\n",
    "def get_distance(lon, lat, x, y):\n",
    "    return geopy.distance.geodesic((lat, lon), (y, x)).km\n",
    "\n",
    "get_distance_udf = F.udf(get_distance)"
   ]
  },
  {
   "cell_type": "code",
   "execution_count": 27,
   "metadata": {},
   "outputs": [
    {
     "data": {
      "text/plain": [
       "56.22314650111336"
      ]
     },
     "execution_count": 27,
     "metadata": {},
     "output_type": "execute_result"
    }
   ],
   "source": [
    "get_distance(118, -34.5, 118.1, -34)"
   ]
  },
  {
   "cell_type": "code",
   "execution_count": 28,
   "metadata": {},
   "outputs": [
    {
     "name": "stderr",
     "output_type": "stream",
     "text": [
      "[Stage 62:>                                                         (0 + 1) / 1]\r"
     ]
    },
    {
     "name": "stdout",
     "output_type": "stream",
     "text": [
      "+----+--------+------------------+\n",
      "|year|DIVISION|          Distance|\n",
      "+----+--------+------------------+\n",
      "|2019|  HARBOR| 5.127342291561631|\n",
      "|2019|  HARBOR| 3.712303302437452|\n",
      "|2019|  HARBOR| 4.738243911349246|\n",
      "|2019|  HARBOR|3.2189567144752944|\n",
      "|2019|  HARBOR| 5.295542135155128|\n",
      "|2019|  HARBOR|3.7177433963381357|\n",
      "|2019|  HARBOR|1.8491120400797305|\n",
      "|2019|  HARBOR| 4.140677660008592|\n",
      "|2019|  HARBOR|1.6793654889664646|\n",
      "|2019|  HARBOR|1.9155357951860488|\n",
      "|2019|  HARBOR|3.2189567144752944|\n",
      "|2019|  HARBOR|1.9155357951860488|\n",
      "|2019|  HARBOR|1.3074790808332148|\n",
      "|2019|  HARBOR|1.7248496567158007|\n",
      "|2019|  HARBOR|2.4082199069248196|\n",
      "|2019|  HARBOR|  6.98466056595288|\n",
      "|2019|  HARBOR| 3.920185606191569|\n",
      "|2019|  HARBOR| 5.291601159615955|\n",
      "|2019|  HARBOR|3.1687980374812006|\n",
      "|2019|  HARBOR|3.7118709805615584|\n",
      "+----+--------+------------------+\n",
      "only showing top 20 rows\n",
      "\n"
     ]
    },
    {
     "name": "stderr",
     "output_type": "stream",
     "text": [
      "                                                                                \r"
     ]
    }
   ],
   "source": [
    "gun_crimes = gun_crimes.withColumn(\"year\", F.year(\"Date Rptd\"))\n",
    "gun_crimes = gun_crimes.hint(join_hint).join(LAPD_stations_df, F.col(\"AREA\") == F.col(\"PREC\"), \"inner\").select(\"year\", \"DIVISION\", \"LAT\", \"LON\", \"X\", \"Y\")\n",
    "gun_crimes = gun_crimes.withColumn(\"Distance\", get_distance_udf(\"LON\", \"LAT\", \"X\", \"Y\")).select(\"year\", \"DIVISION\", \"Distance\")\n",
    "gun_crimes.show()"
   ]
  },
  {
   "cell_type": "code",
   "execution_count": 29,
   "metadata": {},
   "outputs": [
    {
     "name": "stderr",
     "output_type": "stream",
     "text": [
      "[Stage 64:>                                                         (0 + 1) / 1]\r"
     ]
    },
    {
     "name": "stdout",
     "output_type": "stream",
     "text": [
      "+----+------------------+-----+\n",
      "|year|      avg_distance|    #|\n",
      "+----+------------------+-----+\n",
      "|2010|   4.3263411171494| 8162|\n",
      "|2011|2.7904269556134818| 7225|\n",
      "|2012| 37.48698144373701| 6539|\n",
      "|2013| 2.830277105758418| 5851|\n",
      "|2014|10.470155426256726| 4882|\n",
      "|2015|2.7062554193223765| 6729|\n",
      "|2016| 2.717656509409676| 8094|\n",
      "|2017| 4.339232987437758| 7781|\n",
      "|2018| 2.735588513251946| 7414|\n",
      "|2019|2.7408268365459576| 7135|\n",
      "|2020| 8.613999633753178| 8496|\n",
      "|2021|32.849532153520606|12101|\n",
      "|2022|2.6120711144746553|10067|\n",
      "|2023|2.5574529789345273| 8484|\n",
      "+----+------------------+-----+\n",
      "\n"
     ]
    },
    {
     "name": "stderr",
     "output_type": "stream",
     "text": [
      "                                                                                \r"
     ]
    }
   ],
   "source": [
    "result = gun_crimes.groupBy(\"year\").agg(\n",
    "    F.avg(\"Distance\").alias(\"avg_distance\"),\n",
    "    F.count(\"Distance\").alias(\"#\")\n",
    ").orderBy(\"year\")\n",
    "result.show()"
   ]
  },
  {
   "cell_type": "code",
   "execution_count": 30,
   "metadata": {},
   "outputs": [
    {
     "name": "stderr",
     "output_type": "stream",
     "text": [
      "[Stage 68:>                                                         (0 + 1) / 1]\r"
     ]
    },
    {
     "name": "stdout",
     "output_type": "stream",
     "text": [
      "+---------------+------------------+-----+\n",
      "|       DIVISION|      avg_distance|    #|\n",
      "+---------------+------------------+-----+\n",
      "|    77TH STREET| 5.745872330844333|16518|\n",
      "|      SOUTHEAST|13.561976270352464|13188|\n",
      "|         NEWTON| 9.896845692177612| 9581|\n",
      "|      SOUTHWEST| 4.160551099530682| 8615|\n",
      "|     HOLLENBECK| 15.03408590027148| 6095|\n",
      "|         HARBOR|13.377359089703047| 5422|\n",
      "|        RAMPART|  4.10628661100912| 4976|\n",
      "|        MISSION| 7.545645264792488| 4450|\n",
      "|        OLYMPIC|1.8346273989145405| 4305|\n",
      "|      NORTHEAST|10.459075190590417| 3838|\n",
      "|       FOOTHILL| 3.810820653031423| 3761|\n",
      "|      HOLLYWOOD|12.119771738174052| 3541|\n",
      "|        CENTRAL|  4.78918793616405| 3447|\n",
      "|       WILSHIRE|13.366513228684692| 3420|\n",
      "|NORTH HOLLYWOOD| 14.03279776776521| 3339|\n",
      "|    WEST VALLEY| 17.11957243238202| 2782|\n",
      "|        PACIFIC|13.276221563348493| 2640|\n",
      "|       VAN NUYS|2.2158642494800787| 2637|\n",
      "|     DEVONSHIRE| 18.57173283138311| 2598|\n",
      "|        TOPANGA| 3.478763348039055| 2300|\n",
      "+---------------+------------------+-----+\n",
      "only showing top 20 rows\n",
      "\n"
     ]
    },
    {
     "name": "stderr",
     "output_type": "stream",
     "text": [
      "                                                                                \r"
     ]
    }
   ],
   "source": [
    "result = gun_crimes.groupBy(\"DIVISION\").agg(\n",
    "    F.avg(\"Distance\").alias(\"avg_distance\"),\n",
    "    F.count(\"Distance\").alias(\"#\")\n",
    ").orderBy(F.col(\"#\").desc())\n",
    "result.show()"
   ]
  },
  {
   "cell_type": "markdown",
   "metadata": {},
   "source": [
    "Query 4b - Dataframe API"
   ]
  },
  {
   "cell_type": "code",
   "execution_count": 31,
   "metadata": {},
   "outputs": [
    {
     "name": "stderr",
     "output_type": "stream",
     "text": [
      "[Stage 71:===========================>                           (16 + 16) / 32]\r"
     ]
    },
    {
     "name": "stdout",
     "output_type": "stream",
     "text": [
      "+----+--------+-------+---------+--------------+----------------+\n",
      "|year|DIVISION|    LAT|      LON|             X|               Y|\n",
      "+----+--------+-------+---------+--------------+----------------+\n",
      "|2019|  HARBOR|33.7884|-118.2479|-118.289241553|33.7576608970001|\n",
      "|2019|  HARBOR|33.7252| -118.299|-118.289241553|33.7576608970001|\n",
      "|2019|  HARBOR|33.7836|-118.2486|-118.289241553|33.7576608970001|\n",
      "|2019|  HARBOR|33.7289|-118.2846|-118.289241553|33.7576608970001|\n",
      "|2019|  HARBOR|33.7933|-118.2512|-118.289241553|33.7576608970001|\n",
      "|2019|  HARBOR|33.7242|-118.2869|-118.289241553|33.7576608970001|\n",
      "|2019|  HARBOR|33.7412|-118.2924|-118.289241553|33.7576608970001|\n",
      "|2019|  HARBOR|33.7868|-118.2613|-118.289241553|33.7576608970001|\n",
      "|2019|  HARBOR|33.7433|-118.2835|-118.289241553|33.7576608970001|\n",
      "|2019|  HARBOR| 33.741|-118.2838|-118.289241553|33.7576608970001|\n",
      "|2019|  HARBOR|33.7289|-118.2846|-118.289241553|33.7576608970001|\n",
      "|2019|  HARBOR| 33.741|-118.2838|-118.289241553|33.7576608970001|\n",
      "|2019|  HARBOR|33.7489|-118.2798|-118.289241553|33.7576608970001|\n",
      "|2019|  HARBOR|33.7433|-118.2821|-118.289241553|33.7576608970001|\n",
      "|2019|  HARBOR|33.7361|-118.2923|-118.289241553|33.7576608970001|\n",
      "|2019|  HARBOR| 33.819|-118.3063|-118.289241553|33.7576608970001|\n",
      "|2019|  HARBOR|33.7906|-118.2739|-118.289241553|33.7576608970001|\n",
      "|2019|  HARBOR|33.7206|-118.3252|-118.289241553|33.7576608970001|\n",
      "|2019|  HARBOR|33.7862|-118.2908|-118.289241553|33.7576608970001|\n",
      "|2019|  HARBOR|33.7243|-118.2924|-118.289241553|33.7576608970001|\n",
      "+----+--------+-------+---------+--------------+----------------+\n",
      "only showing top 20 rows\n",
      "\n"
     ]
    },
    {
     "name": "stderr",
     "output_type": "stream",
     "text": [
      "                                                                                \r"
     ]
    }
   ],
   "source": [
    "gun_crimes = Dataframe.filter(F.col('Weapon Used Cd').like('1%'))\n",
    "gun_crimes = gun_crimes.withColumn(\"year\", F.year(\"Date Rptd\"))\n",
    "gun_crimes = gun_crimes.hint(join_hint).join(LAPD_stations_df, F.col(\"AREA\") == F.col(\"PREC\"), \"inner\").select(\"year\", \"DIVISION\", \"LAT\", \"LON\", \"X\", \"Y\")\n",
    "gun_crimes.show()"
   ]
  },
  {
   "cell_type": "code",
   "execution_count": 32,
   "metadata": {},
   "outputs": [],
   "source": [
    "lapd = spark.read.csv(LAPD_stations_file, header=True, inferSchema=True)\n",
    "lapd = lapd.withColumn(\"X\", F.col(\"X\").cast(\"double\"))\n",
    "lapd = lapd.withColumn(\"Y\", F.col(\"Y\").cast(\"double\"))"
   ]
  },
  {
   "cell_type": "code",
   "execution_count": 33,
   "metadata": {},
   "outputs": [],
   "source": [
    "def find_closest_police_station(longitude, latitude,):\n",
    "    locs = [\n",
    "    (-118.289241553,33.7576608970001),\n",
    "    (-118.275394206,33.9386273800001),\n",
    "    (-118.277669655,33.9703073800001),\n",
    "    (-118.419841576,33.9916553210001),\n",
    "    (-118.305141563,34.0105753400001),\n",
    "    (-118.256118891,34.012355905),\n",
    "    (-118.247294123,34.0440195),\n",
    "    (-118.450779541,34.0437774120001),\n",
    "    (-118.213067956,34.045008769),\n",
    "    (-118.342829525,34.046747682),\n",
    "    (-118.291175911,34.050208529),\n",
    "    (-118.266979649,34.056690437),\n",
    "    (-118.33066931,34.095833225),\n",
    "    (-118.249414484,34.119200666),\n",
    "    (-118.385859348,34.1716939300001),\n",
    "    (-118.445225709,34.1837432730001),\n",
    "    (-118.547454438,34.193397227),\n",
    "    (-118.599636542,34.221376654),\n",
    "    (-118.410417183,34.2530912220001),\n",
    "    (-118.531373363,34.256969059),\n",
    "    (-118.468197808,34.272979397)]\n",
    "\n",
    "\n",
    "    min_distance = float('inf')\n",
    "\n",
    "    for loc in locs:\n",
    "        station_lon, station_lat = loc\n",
    "        distance = get_distance(longitude, latitude, station_lon, station_lat)\n",
    "\n",
    "        if distance < min_distance:\n",
    "            min_distance = distance\n",
    "\n",
    "    return min_distance\n",
    "\n",
    "    \n",
    "find_closest_police_station_udf = F.udf(find_closest_police_station)"
   ]
  },
  {
   "cell_type": "code",
   "execution_count": 33,
   "metadata": {},
   "outputs": [
    {
     "data": {
      "text/plain": [
       "0.0"
      ]
     },
     "execution_count": 33,
     "metadata": {},
     "output_type": "execute_result"
    }
   ],
   "source": [
    "find_closest_police_station(-118.266979649, 34.056690437)"
   ]
  },
  {
   "cell_type": "code",
   "execution_count": 34,
   "metadata": {},
   "outputs": [
    {
     "name": "stderr",
     "output_type": "stream",
     "text": [
      "                                                                                \r"
     ]
    },
    {
     "name": "stdout",
     "output_type": "stream",
     "text": [
      "+----+--------+------------------+\n",
      "|year|DIVISION|          Distance|\n",
      "+----+--------+------------------+\n",
      "|2019|  HARBOR| 5.127342291561631|\n",
      "|2019|  HARBOR| 3.712303302437452|\n",
      "|2019|  HARBOR| 4.738243911349246|\n",
      "|2019|  HARBOR|3.2189567144752944|\n",
      "|2019|  HARBOR| 5.295542135155128|\n",
      "|2019|  HARBOR|3.7177433963381357|\n",
      "|2019|  HARBOR|1.8491120400797305|\n",
      "|2019|  HARBOR| 4.140677660008592|\n",
      "|2019|  HARBOR|1.6793654889664646|\n",
      "|2019|  HARBOR|1.9155357951860488|\n",
      "|2019|  HARBOR|3.2189567144752944|\n",
      "|2019|  HARBOR|1.9155357951860488|\n",
      "|2019|  HARBOR|1.3074790808332148|\n",
      "|2019|  HARBOR|1.7248496567158007|\n",
      "|2019|  HARBOR|2.4082199069248196|\n",
      "|2019|  HARBOR|  6.98466056595288|\n",
      "|2019|  HARBOR| 3.920185606191569|\n",
      "|2019|  HARBOR| 5.291601159615955|\n",
      "|2019|  HARBOR|3.1687980374812006|\n",
      "|2019|  HARBOR|3.7118709805615584|\n",
      "+----+--------+------------------+\n",
      "only showing top 20 rows\n",
      "\n"
     ]
    }
   ],
   "source": [
    "gun_crimes = gun_crimes.withColumn(\"Distance\", find_closest_police_station_udf(\"LON\", \"LAT\")).select(\"year\", \"DIVISION\", \"Distance\")\n",
    "gun_crimes.show()"
   ]
  },
  {
   "cell_type": "code",
   "execution_count": 37,
   "metadata": {},
   "outputs": [
    {
     "name": "stderr",
     "output_type": "stream",
     "text": [
      "[Stage 84:>                                                         (0 + 1) / 1]\r"
     ]
    },
    {
     "name": "stdout",
     "output_type": "stream",
     "text": [
      "+----+------------------+-----+\n",
      "|year|      avg_distance|    #|\n",
      "+----+------------------+-----+\n",
      "|2010|3.9762380227744667| 8162|\n",
      "|2011|2.4582677442240577| 7225|\n",
      "|2012| 37.13364209524679| 6539|\n",
      "|2013| 2.459283926814491| 5851|\n",
      "|2014|10.104120118078391| 4882|\n",
      "|2015|  2.38834425479313| 6729|\n",
      "|2016|2.4258511630950776| 8094|\n",
      "|2017| 4.007069303740121| 7781|\n",
      "|2018|2.4114913328041054| 7414|\n",
      "|2019|2.4303624630677114| 7135|\n",
      "|2020| 8.304682016179004| 8496|\n",
      "|2021|  32.5358929041811|12101|\n",
      "|2022| 2.315125883987165|10067|\n",
      "|2023|2.2715967638620036| 8484|\n",
      "+----+------------------+-----+\n",
      "\n"
     ]
    },
    {
     "name": "stderr",
     "output_type": "stream",
     "text": [
      "                                                                                \r"
     ]
    }
   ],
   "source": [
    "result = gun_crimes.groupBy(\"year\").agg(\n",
    "    F.avg(\"Distance\").alias(\"avg_distance\"),\n",
    "    F.count(\"Distance\").alias(\"#\")\n",
    ").orderBy(\"year\")\n",
    "result.show()"
   ]
  },
  {
   "cell_type": "code",
   "execution_count": null,
   "metadata": {},
   "outputs": [
    {
     "name": "stderr",
     "output_type": "stream",
     "text": [
      "[Stage 86:======================================================> (31 + 1) / 32]\r"
     ]
    },
    {
     "name": "stdout",
     "output_type": "stream",
     "text": [
      "+---------------+------------------+-----+\n",
      "|       DIVISION|      avg_distance|    #|\n",
      "+---------------+------------------+-----+\n",
      "|    77TH STREET|  5.19309759370878|16518|\n",
      "|      SOUTHEAST|13.471602738284755|13188|\n",
      "|         NEWTON| 9.444725167756307| 9581|\n",
      "|      SOUTHWEST|3.5601573646826825| 8615|\n",
      "|     HOLLENBECK|15.022619534245688| 6095|\n",
      "|         HARBOR|13.290425819008904| 5422|\n",
      "|        RAMPART|3.9680769025657825| 4976|\n",
      "|        MISSION| 6.768267212875467| 4450|\n",
      "|        OLYMPIC|1.7393567696353007| 4305|\n",
      "|      NORTHEAST|10.185143645838624| 3838|\n",
      "|       FOOTHILL|3.7223003120431004| 3761|\n",
      "|      HOLLYWOOD|12.112232296565534| 3541|\n",
      "|        CENTRAL| 4.715568664043192| 3447|\n",
      "|       WILSHIRE|13.079051083443495| 3420|\n",
      "|NORTH HOLLYWOOD| 13.83065202357141| 3339|\n",
      "|    WEST VALLEY|16.481518315328803| 2782|\n",
      "|        PACIFIC|13.190959733187475| 2640|\n",
      "|       VAN NUYS|2.1875146795048224| 2637|\n",
      "|     DEVONSHIRE| 17.58786730446147| 2598|\n",
      "|        TOPANGA| 3.173372840027675| 2300|\n",
      "+---------------+------------------+-----+\n",
      "only showing top 20 rows\n",
      "\n"
     ]
    },
    {
     "name": "stderr",
     "output_type": "stream",
     "text": [
      "                                                                                \r"
     ]
    }
   ],
   "source": [
    "result = gun_crimes.groupBy(\"DIVISION\").agg(\n",
    "    F.avg(\"Distance\").alias(\"avg_distance\"),\n",
    "    F.count(\"Distance\").alias(\"#\")\n",
    ").orderBy(F.col(\"#\").desc())\n",
    "result.show()"
   ]
  }
 ],
 "metadata": {
  "kernelspec": {
   "display_name": "Python 3",
   "language": "python",
   "name": "python3"
  },
  "language_info": {
   "codemirror_mode": {
    "name": "ipython",
    "version": 3
   },
   "file_extension": ".py",
   "mimetype": "text/x-python",
   "name": "python",
   "nbconvert_exporter": "python",
   "pygments_lexer": "ipython3",
   "version": "3.10.12"
  }
 },
 "nbformat": 4,
 "nbformat_minor": 2
}
